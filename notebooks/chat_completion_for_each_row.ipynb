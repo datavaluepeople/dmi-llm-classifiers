{
 "cells": [
  {
   "cell_type": "markdown",
   "id": "dfbcbfed-ba03-4d36-874c-1808d966e88f",
   "metadata": {},
   "source": [
    "# Simple chat response for all rows in CSV\n",
    "\n",
    "This notebook will read your CSV, prompt and for each row in the CSV will make a request to openai chat completions for a response that will be recorded in the output\n",
    "\n",
    "The notebook will never delete data but always append to the OUTPUT_CSV. \n",
    "\n",
    "The parameters are set up that if you don't change anything it will run the prompt in ./workspace/buildup_usa_christianity/prompt.txt for the first record of ./workspace/buildup_usa_christianity/tweets.csv\n",
    "\n",
    "Change the \"Input Parameters\" as needed."
   ]
  },
  {
   "cell_type": "code",
   "execution_count": null,
   "id": "9dc75b90-74df-4b05-a146-39bcb47e1b6a",
   "metadata": {},
   "outputs": [],
   "source": [
    "import os\n",
    "import datetime\n",
    "\n",
    "import pandas as pd\n",
    "import numpy as np\n",
    "from langchain import LLMChain\n",
    "from langchain.chat_models import ChatOpenAI\n",
    "from langchain.prompts.chat import (\n",
    "    ChatPromptTemplate,\n",
    "    SystemMessagePromptTemplate,\n",
    "    HumanMessagePromptTemplate,\n",
    ")\n",
    "import openai"
   ]
  },
  {
   "cell_type": "code",
   "execution_count": null,
   "id": "ac80e535-6976-41f0-831f-a78f8a27f0b4",
   "metadata": {},
   "outputs": [],
   "source": [
    "# Input parameters\n",
    "INPUT_CSV = \"../workspace/buildup_christianity_usa/tweets.csv\"\n",
    "# If multiple columns are used then they will be concatenated together\n",
    "COLUMNS_FOR_ANALYSIS = [\"text\"]\n",
    "OUTPUT_CSV = \"../workspace/buildup_christianity_usa/output.csv\"\n",
    "PROMPT_FILE = \"../workspace/buildup_christianity_usa/prompt.txt\"\n",
    "START_OFFSET = 0\n",
    "NUMBER_OF_RECORDS_TO_PROCESS = 1\n",
    "# The number of records to process before a persist is done\n",
    "# This means that if you stop the process half way through\n",
    "# All the previous batches will be persisted\n",
    "BATCH_PERSIST_SIZE = 5\n",
    "API_KEY = os.getenv('OPENAI_API_KEY')"
   ]
  },
  {
   "cell_type": "code",
   "execution_count": null,
   "id": "532744df-0b1e-41a2-a5e5-999cb91597be",
   "metadata": {},
   "outputs": [],
   "source": [
    "input_df = pd.read_csv(INPUT_CSV)\n",
    "input_df.head()"
   ]
  },
  {
   "cell_type": "code",
   "execution_count": null,
   "id": "a352744c-9793-4f6b-9dd3-f78075126330",
   "metadata": {},
   "outputs": [],
   "source": [
    "input_df[\"gpt_text_to_process\"] = input_df[COLUMNS_FOR_ANALYSIS].apply(' '.join, axis=1)\n",
    "input_df[\"gpt_text_to_process\"].head()"
   ]
  },
  {
   "cell_type": "code",
   "execution_count": null,
   "id": "34aed261-1152-45d2-acd0-5bb8592ecd8f",
   "metadata": {},
   "outputs": [],
   "source": [
    "if NUMBER_OF_RECORDS_TO_PROCESS is None:\n",
    "    df_to_process = input_df[START_OFFSET:]\n",
    "else:\n",
    "    df_to_process = input_df[START_OFFSET:NUMBER_OF_RECORDS_TO_PROCESS]\n",
    "\n",
    "print(f\"total number of records to process is {df_to_process.shape[0]}\")"
   ]
  },
  {
   "cell_type": "code",
   "execution_count": null,
   "id": "6841cd6d-8ff7-4f70-a3d0-2e29493c4cfc",
   "metadata": {},
   "outputs": [],
   "source": [
    "with open(PROMPT_FILE) as f:\n",
    "    prompt = f.read()\n",
    "\n",
    "prompt"
   ]
  },
  {
   "cell_type": "code",
   "execution_count": null,
   "id": "7b123e48-9c45-47fb-9ff5-69fc28e62d0b",
   "metadata": {},
   "outputs": [],
   "source": [
    "from langchain.chat_models import ChatOpenAI\n",
    "chat = ChatOpenAI(temperature=0, model=\"gpt-3.5-turbo\")"
   ]
  },
  {
   "cell_type": "code",
   "execution_count": null,
   "id": "85582efe-a56d-42bf-99b7-d203aacb70c1",
   "metadata": {},
   "outputs": [],
   "source": [
    "system_message_prompt = SystemMessagePromptTemplate.from_template(prompt)\n",
    "human_template = \"{text}\"\n",
    "human_message_prompt = HumanMessagePromptTemplate.from_template(human_template)\n",
    "\n",
    "chat_prompt = ChatPromptTemplate.from_messages([system_message_prompt, human_message_prompt])"
   ]
  },
  {
   "cell_type": "code",
   "execution_count": null,
   "id": "5171cdb8-b8ef-4482-8786-48e721696c24",
   "metadata": {},
   "outputs": [],
   "source": [
    "chain = LLMChain(llm=chat, prompt=chat_prompt)"
   ]
  },
  {
   "cell_type": "code",
   "execution_count": null,
   "id": "29f4fb88-4f09-42be-be3b-fc6687513769",
   "metadata": {},
   "outputs": [],
   "source": [
    "def compute(chunked_df_to_process):\n",
    "    output_df = chunked_df_to_process.copy()\n",
    "    output_df[\"gpt_response\"] = output_df[\"gpt_text_to_process\"].apply(lambda x: chain.run(text=x))\n",
    "    output_df[\"gpt_responsed_at\"] = datetime.datetime.now(datetime.timezone.utc)\n",
    "    return output_df"
   ]
  },
  {
   "cell_type": "code",
   "execution_count": null,
   "id": "8fefffe4-cf65-4c84-a204-83fee09ea222",
   "metadata": {},
   "outputs": [],
   "source": [
    "first_time_with_header = False\n",
    "if not os.path.exists(OUTPUT_CSV):\n",
    "    first_time_with_header = True\n",
    "\n",
    "dfs = []\n",
    "for chunk in np.array_split(df_to_process, BATCH_PERSIST_SIZE):\n",
    "    result_df = compute(chunk)\n",
    "    if first_time_with_header:\n",
    "        result_df.to_csv(OUTPUT_CSV, mode='a', header=True)\n",
    "        first_time_with_header = False\n",
    "    else:\n",
    "        result_df.to_csv(OUTPUT_CSV, mode='a', header=False)\n",
    "    dfs.append(result_df)\n",
    "    "
   ]
  },
  {
   "cell_type": "code",
   "execution_count": null,
   "id": "228fa107-b3cb-4cd5-985e-0c0da6f97e9b",
   "metadata": {},
   "outputs": [],
   "source": [
    "total_processed = pd.concat(dfs)\n",
    "total_processed.shape[0]"
   ]
  },
  {
   "cell_type": "code",
   "execution_count": null,
   "id": "51dc1355-4c0a-4315-b14c-90716ba1a1c6",
   "metadata": {},
   "outputs": [],
   "source": [
    "total_processed.head()"
   ]
  },
  {
   "cell_type": "code",
   "execution_count": null,
   "id": "b37b9daa-8f50-485f-a4e7-ffca30cc071c",
   "metadata": {},
   "outputs": [],
   "source": []
  }
 ],
 "metadata": {
  "kernelspec": {
   "display_name": "Python 3 (ipykernel)",
   "language": "python",
   "name": "python3"
  },
  "language_info": {
   "codemirror_mode": {
    "name": "ipython",
    "version": 3
   },
   "file_extension": ".py",
   "mimetype": "text/x-python",
   "name": "python",
   "nbconvert_exporter": "python",
   "pygments_lexer": "ipython3",
   "version": "3.11.4"
  }
 },
 "nbformat": 4,
 "nbformat_minor": 5
}
