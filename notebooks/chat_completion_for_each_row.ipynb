{
 "cells": [
  {
   "cell_type": "markdown",
   "id": "dfbcbfed-ba03-4d36-874c-1808d966e88f",
   "metadata": {},
   "source": [
    "# Simple chat response for all rows in CSV\n",
    "\n",
    "This notebook will read your CSV, prompt and for each row in the CSV will ask gpt-4 for a response that will be recorded in the output"
   ]
  }
 ],
 "metadata": {
  "kernelspec": {
   "display_name": "Python 3 (ipykernel)",
   "language": "python",
   "name": "python3"
  },
  "language_info": {
   "codemirror_mode": {
    "name": "ipython",
    "version": 3
   },
   "file_extension": ".py",
   "mimetype": "text/x-python",
   "name": "python",
   "nbconvert_exporter": "python",
   "pygments_lexer": "ipython3",
   "version": "3.11.4"
  }
 },
 "nbformat": 4,
 "nbformat_minor": 5
}
