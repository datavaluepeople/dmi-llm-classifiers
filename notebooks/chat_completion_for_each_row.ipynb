{
 "cells": [
  {
   "cell_type": "markdown",
   "id": "dfbcbfed-ba03-4d36-874c-1808d966e88f",
   "metadata": {},
   "source": [
    "# Simple chat response for all rows in CSV\n",
    "\n",
    "This notebook will read your CSV, prompt and for each row in the CSV will ask gpt-4 for a response that will be recorded in the output"
   ]
  },
  {
   "cell_type": "code",
   "execution_count": null,
   "id": "9dc75b90-74df-4b05-a146-39bcb47e1b6a",
   "metadata": {},
   "outputs": [],
   "source": [
    "import os\n",
    "import datetime\n",
    "\n",
    "import pandas as pd\n",
    "from langchain import LLMChain\n",
    "from langchain.chat_models import ChatOpenAI\n",
    "from langchain.prompts.chat import (\n",
    "    ChatPromptTemplate,\n",
    "    SystemMessagePromptTemplate,\n",
    "    HumanMessagePromptTemplate,\n",
    ")\n",
    "import openai"
   ]
  },
  {
   "cell_type": "code",
   "execution_count": null,
   "id": "ac80e535-6976-41f0-831f-a78f8a27f0b4",
   "metadata": {},
   "outputs": [],
   "source": [
    "# Input paramters\n",
    "INPUT_CSV = \"../workspace/buildup_christianity_usa/tweets.csv\"\n",
    "COLUMNS_FOR_ANALYSIS = [\"text\"]\n",
    "OUTPUT_CSV = \"../workspace/buildup_christianity_usa/output.csv\"\n",
    "PROMPT_FILE = \"../workspace/buildup_christianity_usa/prompt.txt\"\n",
    "START_OFFSET = 0\n",
    "NUMBER_OF_RECORDS_TO_PROCESS = 1\n",
    "API_KEY = os.getenv('OPENAI_API_KEY')"
   ]
  },
  {
   "cell_type": "code",
   "execution_count": null,
   "id": "532744df-0b1e-41a2-a5e5-999cb91597be",
   "metadata": {},
   "outputs": [],
   "source": [
    "input_df = pd.read_csv(INPUT_CSV)\n",
    "input_df.head()"
   ]
  },
  {
   "cell_type": "code",
   "execution_count": null,
   "id": "a352744c-9793-4f6b-9dd3-f78075126330",
   "metadata": {},
   "outputs": [],
   "source": [
    "series_of_text = input_df[COLUMNS_FOR_ANALYSIS].apply(' '.join, axis=1)\n",
    "series_of_text.head()"
   ]
  },
  {
   "cell_type": "code",
   "execution_count": null,
   "id": "34aed261-1152-45d2-acd0-5bb8592ecd8f",
   "metadata": {},
   "outputs": [],
   "source": [
    "if NUMBER_OF_RECORDS_TO_PROCESS is None:\n",
    "    series_to_process = series_of_text[START_OFFSET:]\n",
    "else:\n",
    "    series_to_process = series_of_text[START_OFFSET:NUMBER_OF_RECORDS_TO_PROCESS]\n",
    "\n",
    "print(f\"total number of records to process is {series_to_process.shape[0]}\")"
   ]
  },
  {
   "cell_type": "code",
   "execution_count": null,
   "id": "6841cd6d-8ff7-4f70-a3d0-2e29493c4cfc",
   "metadata": {},
   "outputs": [],
   "source": [
    "with open(PROMPT_FILE) as f:\n",
    "    prompt = f.read()\n",
    "\n",
    "prompt"
   ]
  },
  {
   "cell_type": "code",
   "execution_count": null,
   "id": "7b123e48-9c45-47fb-9ff5-69fc28e62d0b",
   "metadata": {},
   "outputs": [],
   "source": [
    "from langchain.chat_models import ChatOpenAI\n",
    "chat = ChatOpenAI(temperature=0, model=\"gpt-3.5-turbo\")"
   ]
  },
  {
   "cell_type": "code",
   "execution_count": null,
   "id": "85582efe-a56d-42bf-99b7-d203aacb70c1",
   "metadata": {},
   "outputs": [],
   "source": [
    "system_message_prompt = SystemMessagePromptTemplate.from_template(prompt)\n",
    "human_template = \"{text}\"\n",
    "human_message_prompt = HumanMessagePromptTemplate.from_template(human_template)\n",
    "\n",
    "chat_prompt = ChatPromptTemplate.from_messages([system_message_prompt, human_message_prompt])"
   ]
  },
  {
   "cell_type": "code",
   "execution_count": null,
   "id": "5171cdb8-b8ef-4482-8786-48e721696c24",
   "metadata": {},
   "outputs": [],
   "source": [
    "chain = LLMChain(llm=chat, prompt=chat_prompt)"
   ]
  },
  {
   "cell_type": "code",
   "execution_count": null,
   "id": "07393727-7364-43d5-a0ea-f96bc79a9edc",
   "metadata": {},
   "outputs": [],
   "source": [
    "chatgpt_responses = series_to_process.apply(lambda x: chain.run(text=x))"
   ]
  },
  {
   "cell_type": "code",
   "execution_count": null,
   "id": "e57dd00c-73e8-472f-8e96-0b2e7177ae15",
   "metadata": {},
   "outputs": [],
   "source": [
    "chatgpt_responses.head()"
   ]
  },
  {
   "cell_type": "code",
   "execution_count": null,
   "id": "60a7a65e-c4ca-49c7-901c-a6a6b6955cd4",
   "metadata": {},
   "outputs": [],
   "source": [
    "output_df = input_df.copy()\n",
    "output_df[\"gpt_response\"] = chatgpt_responses\n",
    "output_df[\"gpt_responsed_at\"] = datetime.datetime.now(datetime.timezone.utc)"
   ]
  },
  {
   "cell_type": "code",
   "execution_count": null,
   "id": "228fa107-b3cb-4cd5-985e-0c0da6f97e9b",
   "metadata": {},
   "outputs": [],
   "source": [
    "output_df.head()"
   ]
  },
  {
   "cell_type": "code",
   "execution_count": null,
   "id": "51dc1355-4c0a-4315-b14c-90716ba1a1c6",
   "metadata": {},
   "outputs": [],
   "source": [
    "output_df.to_csv(OUTPUT_CSV)"
   ]
  }
 ],
 "metadata": {
  "kernelspec": {
   "display_name": "Python 3 (ipykernel)",
   "language": "python",
   "name": "python3"
  },
  "language_info": {
   "codemirror_mode": {
    "name": "ipython",
    "version": 3
   },
   "file_extension": ".py",
   "mimetype": "text/x-python",
   "name": "python",
   "nbconvert_exporter": "python",
   "pygments_lexer": "ipython3",
   "version": "3.11.4"
  }
 },
 "nbformat": 4,
 "nbformat_minor": 5
}
